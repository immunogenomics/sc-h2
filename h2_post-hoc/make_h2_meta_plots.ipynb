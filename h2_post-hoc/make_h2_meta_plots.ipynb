{
 "cells": [
  {
   "cell_type": "code",
   "execution_count": null,
   "id": "3e5cea53",
   "metadata": {},
   "outputs": [],
   "source": [
    "import pandas as pd\n",
    "import numpy as np\n",
    "import scipy as sp\n",
    "from scipy.stats import norm\n",
    "import anndata as adata\n",
    "import scanpy as sc\n",
    "import matplotlib.pyplot as plt\n",
    "import seaborn as sns\n",
    "from scipy import stats\n",
    "from plotnine import *"
   ]
  },
  {
   "cell_type": "code",
   "execution_count": null,
   "id": "43153055-73c4-4de0-8556-9b536d2445f7",
   "metadata": {
    "tags": []
   },
   "outputs": [],
   "source": [
    "#make a \"read file\" method here so less chunky code below\n",
    "def read_file(disease, filename, inp_subfolder):\n",
    "    try:\n",
    "        inp_folder ='/data/srlab/agupta/data/h2/h2_output/07_2022_traits/' + inp_subfolder\n",
    "        return pd.DataFrame(pd.read_csv(inp_folder+'/'+filename,sep='\\t',index_col=0)).T\n",
    "    except:\n",
    "        print('wasnt able to read in file')"
   ]
  },
  {
   "cell_type": "code",
   "execution_count": null,
   "id": "e7effda4-d00e-4c5c-94b2-c07583afae87",
   "metadata": {
    "scrolled": true,
    "tags": []
   },
   "outputs": [],
   "source": [
    "#get all PASS trait file names\n",
    "import os\n",
    "pass_fnames = []\n",
    "for root, dirs, files in os.walk(\"/data/srlab/agupta/data/all_PASS_traits\"):\n",
    "    for filename in files:\n",
    "        pass_fnames.append(filename.split(\".\")[0])\n",
    "len(pass_fnames)"
   ]
  },
  {
   "cell_type": "code",
   "execution_count": null,
   "id": "a13e55e6-ca8f-4ff7-a8c9-030eb4a74818",
   "metadata": {
    "scrolled": true,
    "tags": []
   },
   "outputs": [],
   "source": [
    "# read in accurate heritability estimates for all traits\n",
    "h2g = pd.read_csv('/data/srlab/agupta/data/ref_files/traits_test_h2g_and_names_vJuly2022-forh2gmapping.csv',index_col=0)\n",
    "h2_vals = []\n",
    "diseases = list(h2g.index)\n",
    "fnames = []\n",
    "#h2g file also has 'Trait Name' column!\n",
    "for trait in diseases:\n",
    "    h2 = h2g.loc[trait,'h2g']\n",
    "    h2_vals.append(h2)\n",
    "    \n",
    "    fname = h2g.loc[trait,'Trait_Identifier'].split(\"PASS_\")[-1]\n",
    "    fnames.append(fname)\n",
    "\n",
    "#map trait name to 1) h2 val and 2) fname\n",
    "disease_h2_mapping = dict(zip(diseases, h2_vals))\n",
    "disease_fname_mapping = dict(zip(diseases, fnames))\n",
    "\n",
    "#make sure file names in h2g spreadsheet match actual sumstats files above\n",
    "print(len(set(pass_fnames).intersection(set(h2g['Trait_Identifier']))), len(h2g))\n",
    "\n",
    "h2g"
   ]
  },
  {
   "cell_type": "code",
   "execution_count": null,
   "id": "05c64d19-59bc-4ff1-b4df-5e567fb21034",
   "metadata": {
    "tags": []
   },
   "outputs": [],
   "source": [
    "def calc_tau_star(input_df, disease, continuous, cell_type, annot):\n",
    "    ## calculating and adding tau* as a metric (with its updated SE as well)\n",
    "    tau = input_df.loc['Coefficient',:]\n",
    "    tau_se = input_df.loc['Coefficient_std_error',:]\n",
    "\n",
    "    if continuous==False:\n",
    "        p = input_df.loc['Prop._SNPs',:]\n",
    "    # num common SNPs\n",
    "    num_total_SNPs = 5_961_159\n",
    "\n",
    "    # read in trait-specific h2 from the .log file\n",
    "    disease_h2 = disease_h2_mapping[disease]\n",
    "\n",
    "    tau_star_num = np.sqrt(p*(1-p))\n",
    "\n",
    "    tau_star_denom = disease_h2/num_total_SNPs\n",
    "\n",
    "    # update tau* and tau* SE\n",
    "    tau_star = tau * tau_star_num/tau_star_denom\n",
    "    tau_star_SE = tau_se * tau_star_num/tau_star_denom\n",
    "\n",
    "    return(tau_star, tau_star_SE)"
   ]
  },
  {
   "cell_type": "code",
   "execution_count": null,
   "id": "0fe27cb5-cb64-4cde-b6bd-a0c11c8d6d1e",
   "metadata": {
    "tags": []
   },
   "outputs": [],
   "source": [
    "def make_heatmap(inp_df, metric, x, y, max_pval, figx, figy, enrich_col, enrich_lim):\n",
    "    if metric=='Enrichment':\n",
    "        val = 'Enrichment'\n",
    "        pval = '-log10(enrich_p)'\n",
    "        name = 'Enrichment'\n",
    "        dot_color = enrich_col\n",
    "    if metric=='effect_size':\n",
    "        val = 'effect_size'\n",
    "        pval = '-log10(tau*_p)'\n",
    "        name = 'tau*'\n",
    "        dot_color = 'darkred'\n",
    "\n",
    "    print(ggplot(inp_df,\n",
    "        aes(x=x,\n",
    "        y=y))\n",
    "     + geom_point(aes(fill = val,\n",
    "                      color = val,\n",
    "                      size=pval))\n",
    "     + scale_fill_gradient2(low = \"blue\",  \n",
    "                          mid = \"white\",\n",
    "                          midpoint=0,\n",
    "                          high = dot_color,\n",
    "                          name=name,limits=(0,enrich_lim))+\n",
    "      scale_color_gradient2(low = \"blue\",  \n",
    "                           mid = \"white\",\n",
    "                           midpoint=0,\n",
    "                           high = dot_color,\n",
    "                           name=name,limits=(0,enrich_lim))\n",
    "     + scale_size(range = (0,10), name='-log10(pval)', limits=(0,max_pval))\n",
    "     + xlab(\" \")\n",
    "     + ylab(\" \")\n",
    "     + theme_bw()\n",
    "     + theme(figure_size=(figx,figy))\n",
    "     + theme(axis_text_x = element_text(angle = 90, size = 9))\n",
    "     + theme(axis_text_y = element_text(size = 10)))"
   ]
  },
  {
   "cell_type": "code",
   "execution_count": null,
   "id": "2f9955bf-0747-4e76-ae75-14167ee86cf0",
   "metadata": {},
   "outputs": [],
   "source": [
    "AI_diseases = sorted(['Celiac_Disease','Eczema',\n",
    " 'Child_Onset_Asthma',\n",
    " \"Crohn's_Disease\",\n",
    " 'Hypothyroidism',\n",
    " 'IBD',\n",
    " 'Adult_Onset_Asthma',\n",
    " 'Primary_Biliary_Cirrhosis',\n",
    " 'Respiratory_and_Ear-nose-throat_Diseases',\n",
    " 'Rheumatoid_Arthritis',\n",
    " 'Systemic_Lupus_Erythematosus',\n",
    " 'Ulcerative_Colitis'])\n",
    "\n",
    "blood_traits = ['Basophil_count','Eosinophil_count','Lymphocyte_count','Neutrophil_count','White_blood_cell_count']\n",
    "blood_traits\n",
    "\n",
    "non_AI_traits = ['BMI','Height']"
   ]
  },
  {
   "cell_type": "code",
   "execution_count": null,
   "id": "5047454c-ada2-4b0e-9ecb-d520f21d30d0",
   "metadata": {
    "scrolled": true,
    "tags": []
   },
   "outputs": [],
   "source": [
    "## MAKE GIANT, META DATAFRAME ##\n",
    "\n",
    "overall_df = pd.DataFrame()\n",
    "\n",
    "cell_types = ['T','B','M','F','E']\n",
    "annots = ['DI:COMBINED']\n",
    "\n",
    "inp_subfolder = \"broad_ODI_fig3\" # 'subtypes_fig4'\n",
    "traits_plot_all = AI_diseases # blood_traits, non_AI_traits\n",
    "date='072622'\n",
    "\n",
    "for disease in traits_plot_all:\n",
    "    for cell_type in cell_types:\n",
    "        for annot in annots:\n",
    "            try:\n",
    "                if annot == 'COMBINED':\n",
    "                    filename = date+\".\"+disease+\".\"+cell_type+\"_COMBINED.results\"\n",
    "                elif annot == 'DI:COMBINED':\n",
    "                    filename = date+\".\"+disease+\".\"+cell_type+\"_DI:COMBINED.results\"\n",
    "                else:\n",
    "                    filename = date+\".\"+disease+\".\"+cell_type+\"_\"+annot+\".results\"\n",
    "                this_df = read_file(disease_fname_mapping[disease], filename, inp_subfolder)\n",
    "\n",
    "                annot_concat = annot                \n",
    "                if 'POS' in annot:\n",
    "                    annot_concat = str(annot).split(\"_\")[0]+\"+\"\n",
    "                elif 'NEG' in annot:\n",
    "                    annot_concat = str(annot).split(\"_\")[0]+\"-\"\n",
    "\n",
    "                if annot == 'DI:COMBINED' or annot == 'COMBINED':\n",
    "                    #if DYN vs INV\n",
    "                    this_df = this_df[['L2_0','L2_1']]\n",
    "                    cols = [disease+\"_\"+cell_type+\"_peaks_conditional_\"+i for i in ['DYNAMIC','INVARIANT']]\n",
    "                    this_df.columns = cols\n",
    "\n",
    "                if annot != 'COMBINED' and annot != \"DI:COMBINED\":\n",
    "                    # print('independent')\n",
    "                    this_df = this_df[['L2_0']]\n",
    "                    this_df.columns = [disease+\"_\"+cell_type+\"_\"+annot_concat]\n",
    "\n",
    "                #calculate tau*\n",
    "                tau_star, tau_star_SE = calc_tau_star(this_df, disease, False, cell_type, annot_concat) #True\n",
    "\n",
    "                this_df.loc['effect_size',:] = tau_star\n",
    "                this_df.loc['effect_size_SE',:] = tau_star_SE\n",
    "                pvals = norm.pdf(0, loc = tau_star, scale = tau_star_SE)\n",
    "                this_df.loc['effect_size_pval',:] = pvals\n",
    "\n",
    "                overall_df = pd.concat([overall_df,this_df],axis=1)\n",
    "\n",
    "            except:\n",
    "                print(\"something went wrong:\", disease, cell_type, annot)\n",
    "\n",
    "### CALCULATE KEY METRICS FOR EACH ANNOT ###\n",
    "overall_df.loc['annot_size (%)',:] = overall_df.loc['Prop._SNPs',:]*100\n",
    "overall_df.loc['-log10(enrich_p)',:] = -np.log10(overall_df.loc['Enrichment_p',:])\n",
    "overall_df.loc['-log10(tau*_p)',:] = -np.log10(overall_df.loc['effect_size_pval',:])\n",
    "overall_df.loc['prop_h2',:] = overall_df.loc['Prop._h2',:]*100\n",
    "overall_df.loc['prop_h2_SE',:] = overall_df.loc['Prop._h2_std_error',:]*100\n",
    "\n",
    "overall_df"
   ]
  },
  {
   "cell_type": "code",
   "execution_count": null,
   "id": "6f119587-732c-423f-82bb-eb403c3f6e10",
   "metadata": {},
   "outputs": [],
   "source": [
    "#total number of columns above should equal: # traits X # annots X # cell types (i.e. 28 X 13 X 4 = 1456)"
   ]
  },
  {
   "cell_type": "markdown",
   "id": "a652ffb9-1faa-42cd-9489-e25cf222a090",
   "metadata": {},
   "source": [
    "**MAKE TRAITS X ANNOTATIONS DFs that include:**\n",
    "- h2 enrichment\n",
    "- h2 enrich pval\n",
    "- tau*\n",
    "- tau* pval\n",
    "\n",
    "#create conditional and non-conditional versions of each"
   ]
  },
  {
   "cell_type": "code",
   "execution_count": null,
   "id": "d11a2420-ef7e-4672-97c1-4f1337e8ff20",
   "metadata": {
    "scrolled": true,
    "tags": []
   },
   "outputs": [],
   "source": [
    "df_to_use = overall_df\n",
    "\n",
    "# if conditional\n",
    "if 'conditional' in df_to_use.columns[0]:\n",
    "    plot_df = df_to_use.T[['Prop._h2','Enrichment','Enrichment_std_error','Enrichment_p','-log10(enrich_p)','effect_size','effect_size_SE','effect_size_pval','-log10(tau*_p)']]\n",
    "    plot_df['annot'] = [i.split(\"_\")[-4:-3][0]+\"_\"+i.split(\"_\")[-1:][0] for i in plot_df.index]\n",
    "    plot_df['trait'] = [\"_\".join(i.split(\"_\")[:-4]) for i in plot_df.index]\n",
    "    plot_df['cell_type'] = [i.split(\"_\")[-4:-3][0] for i in plot_df.index]\n",
    "\n",
    "else: #if independent\n",
    "    plot_df = df_to_use.T[['Prop._h2','Enrichment','Enrichment_std_error','Enrichment_p','-log10(enrich_p)','effect_size','effect_size_SE','effect_size_pval','-log10(tau*_p)']]\n",
    "    plot_df['annot'] = [i.split(\"_\")[-2:-1][0]+\"_\"+i.split(\"_\")[-1:][0] for i in plot_df.index]\n",
    "    plot_df['trait'] = [\"_\".join(i.split(\"_\")[:-2]) for i in plot_df.index]\n",
    "    plot_df['cell_type'] = [i.split(\"_\")[-2:-1][0] for i in plot_df.index]\n",
    "\n",
    "plt.hist(plot_df['-log10(enrich_p)'],bins=50,label='enrichment',alpha=0.7,color='darkblue');\n",
    "plt.hist(plot_df['-log10(tau*_p)'],bins=50,alpha=0.9,label='tau*',color='teal');\n",
    "sns.despine()\n",
    "plt.legend()\n",
    "plt.title(\"pvalue distribs\\nenrichment and tau*\")\n",
    "plt.show()\n",
    "\n",
    "plot_df"
   ]
  },
  {
   "cell_type": "code",
   "execution_count": null,
   "id": "0730a774-b807-458d-a8f2-600078facf1e",
   "metadata": {},
   "outputs": [],
   "source": [
    "### for plotting, update the pvals such that those that are not significant are equal to 0 (so they aren't colored):\n",
    "pdc = plot_df.copy()\n",
    "sig_threshold = -np.log10(0.05/len(AI_diseases))\n",
    "pdc['-log10(enrich_p)'] = np.where(pdc['-log10(enrich_p)']<sig_threshold, 0, pdc['-log10(enrich_p)'])\n",
    "pdc['Enrichment'] = np.where(pdc['-log10(enrich_p)']<sig_threshold, 0, pdc['Enrichment'])\n",
    "pdc['-log10(tau*_p)'] = np.where(pdc['-log10(tau*_p)']<sig_threshold, 0, pdc['-log10(enrich_p)'])\n",
    "pdc['effect_size'] = np.where(pdc['-log10(tau*_p)']<sig_threshold, 0, pdc['effect_size'])"
   ]
  },
  {
   "cell_type": "code",
   "execution_count": null,
   "id": "cfac7858-0982-4dca-8fcf-fc97c951c4fb",
   "metadata": {
    "tags": []
   },
   "outputs": [],
   "source": [
    "#plotting metrics for ALL ANNOTS COMBINED\n",
    "\n",
    "df_to_plot = plot_df#pdc#plot_df\n",
    "max_pval = 10\n",
    "figx, figy = 3,6\n",
    "df_to_plot['OG_traits_ordered'] = pd.Categorical(df_to_plot['trait'], categories=sorted(list(set(df_to_plot['trait'])))[::-1], ordered=True)\n",
    "df_to_plot['annot_ordered'] = pd.Categorical(df_to_plot['annot'], categories=['B_DYNAMIC','B_INVARIANT',\n",
    "                                                             'T_DYNAMIC','T_INVARIANT',\n",
    "                                                             'M_DYNAMIC','M_INVARIANT',\n",
    "                                                             'F_DYNAMIC','F_INVARIANT',\n",
    "                                                             'E_DYNAMIC','E_INVARIANT'], ordered=True)\n",
    "df_to_plot['annot_open_ordered'] = pd.Categorical(df_to_plot['annot'], categories=['B_OPEN',\n",
    "                                                             'T_OPEN',\n",
    "                                                             'M_OPEN',\n",
    "                                                             'F_OPEN'\n",
    "                                                             'E_OPEN'], ordered=True)\n",
    "\n",
    "#for within cell-type annots\n",
    "make_heatmap(df_to_plot, 'Enrichment', 'annot_ordered', 'OG_traits_ordered', max_pval, figx, figy, '#729CAE', 40)\n",
    "make_heatmap(df_to_plot, 'effect_size', 'annot_ordered', 'OG_traits_ordered', max_pval, figx, figy, '#729CAE', 3)"
   ]
  },
  {
   "cell_type": "code",
   "execution_count": null,
   "id": "0e4dc8a7-dc61-4223-8857-5a262008d3c7",
   "metadata": {},
   "outputs": [],
   "source": [
    "#bar plot for annotation sizes\n",
    "\n",
    "plt.figure(figsize=(3,1))\n",
    "plt.bar(np.arange(0,10,1),[0.48, 1.48, 1.9, 1.1, 2.7, 1.3, 2.8, 1.4, 0.68, 1.6],\n",
    "        color=['#F8766D','#F8766D','#F892EB','#F892EB','#619CFF','#619CFF','#00BFC4','#00BFC4','#00BA38','#00BA38'])\n",
    "sns.despine()"
   ]
  },
  {
   "cell_type": "code",
   "execution_count": null,
   "id": "910570cc-5907-4c31-b604-bb4a2b51f99c",
   "metadata": {
    "scrolled": true,
    "tags": []
   },
   "outputs": [],
   "source": [
    "###### subset by cell type\n",
    "ctbar='T'\n",
    "for col in AI_diseases:\n",
    "    ct = '_'+ctbar+'_' # '_M_'\n",
    "    ct_cols = [i for i in df_for_bar.columns if ct in str(i)]\n",
    "    ct_df = df_for_bar[ct_cols]\n",
    "    \n",
    "ordered_ct_cols = []\n",
    "for trait in AI_diseases:\n",
    "    for at in ['DYNAMIC','INVARIANT']:\n",
    "        ordered_ct_cols.append(trait+\"_\"+ctbar+\"_peaks_conditional_\"+at)\n",
    "\n",
    "#tau*\n",
    "plt.figure(figsize=(12,3))\n",
    "plt.bar(ordered_ct_cols,ct_df.loc['effect_size',ordered_ct_cols],\n",
    "        color=['mediumslateblue','gainsboro'],width=1)\n",
    "plt.tight_layout()\n",
    "sns.despine()\n",
    "plt.ylabel('$h^2$ effect size (tau*)',fontsize=16)\n",
    "plt.xticks(np.arange(0,len(ordered_ct_cols),1),[i.split(\"_\"+ctbar+\"_peaks_conditional_\")[0] for i in ordered_ct_cols],rotation=90)\n",
    "\n",
    "plt.errorbar(ordered_ct_cols, ct_df.loc['effect_size',ordered_ct_cols], yerr=ct_df.loc['effect_size_SE',ordered_ct_cols]*1.96,\n",
    "             fmt='none', color='black', elinewidth=1, capthick=1, errorevery=1, alpha=1, ms=4) #, capsize = 3\n",
    "plt.xlim([-.5,len(ordered_ct_cols)])"
   ]
  },
  {
   "cell_type": "code",
   "execution_count": null,
   "id": "1b4bdcf4-8d96-4c83-bba0-1534c7e00592",
   "metadata": {
    "tags": []
   },
   "outputs": [],
   "source": [
    "pd.DataFrame(ct_df.loc['effect_size',ordered_ct_cols]).sort_values('effect_size')"
   ]
  },
  {
   "cell_type": "code",
   "execution_count": null,
   "id": "2065a07c-6cff-46aa-a39c-dd8028748a1d",
   "metadata": {},
   "outputs": [],
   "source": [
    "# scatter plots of dynamic versus invariant (same data as above, shown differently)\n",
    "\n",
    "ctcolor='#F892EB'\n",
    "ordered_ct_cols_DYN = [i for i in ordered_ct_cols if \"DYNAMIC\" in i]\n",
    "ordered_ct_cols_INV = [i for i in ordered_ct_cols if 'INVARIANT' in i]\n",
    "\n",
    "plt.figure(figsize=(3,6))\n",
    "plt.errorbar(ct_df.loc['effect_size',ordered_ct_cols_INV],\n",
    "            ct_df.loc['effect_size',ordered_ct_cols_DYN], \n",
    "             xerr=ct_df.loc['effect_size_SE',ordered_ct_cols_INV], fmt=\"o\",\n",
    "            color=ctcolor)\n",
    "plt.errorbar(ct_df.loc['effect_size',ordered_ct_cols_INV],\n",
    "            ct_df.loc['effect_size',ordered_ct_cols_DYN], \n",
    "             yerr=ct_df.loc['effect_size_SE',ordered_ct_cols_DYN], fmt=\"o\",\n",
    "            color=ctcolor)\n",
    "\n",
    "plt.plot([-1,2.3],[-1,2.3],color='black',linestyle='--')\n",
    "# plt.xlim(-1,2)\n",
    "# plt.ylim(-1,6)\n",
    "plt.xlabel('open peaks tau*',fontsize=15)\n",
    "plt.ylabel('dynamic peaks tau*',fontsize=15)\n",
    "plt.xticks(fontsize=10)\n",
    "plt.yticks(fontsize=10)\n",
    "sns.despine()\n",
    "\n",
    "#F M T E B: ['#00BFC4','#619CFF','#F892EB','#00BA38','#F8766D']"
   ]
  }
 ],
 "metadata": {
  "kernelspec": {
   "display_name": "Python 3 (ipykernel)",
   "language": "python",
   "name": "python3"
  },
  "language_info": {
   "codemirror_mode": {
    "name": "ipython",
    "version": 3
   },
   "file_extension": ".py",
   "mimetype": "text/x-python",
   "name": "python",
   "nbconvert_exporter": "python",
   "pygments_lexer": "ipython3",
   "version": "3.7.12"
  },
  "toc-autonumbering": false,
  "toc-showmarkdowntxt": false
 },
 "nbformat": 4,
 "nbformat_minor": 5
}
