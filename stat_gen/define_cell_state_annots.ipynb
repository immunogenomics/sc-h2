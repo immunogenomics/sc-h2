{
 "cells": [
  {
   "cell_type": "markdown",
   "id": "bb9a2e4f-39cc-41b3-8d01-8319a8434d57",
   "metadata": {},
   "source": [
    "Define annotations for each cell subtype that capture the set of peaks that best reflect that cell subtype (ie whose accessibility profiles best track with that cell subtype's PC values)"
   ]
  },
  {
   "cell_type": "code",
   "execution_count": null,
   "id": "e457d5e6-21b6-4c48-8ad2-5940f08ed2cc",
   "metadata": {},
   "outputs": [],
   "source": [
    "import pandas as pd\n",
    "import numpy as np\n",
    "import scipy as sp\n",
    "from scipy.stats import norm\n",
    "import anndata as adata\n",
    "import scanpy as sc\n",
    "import matplotlib.pyplot as plt\n",
    "import seaborn as sns\n",
    "from plotnine import *\n",
    "from regression_dependencies import *"
   ]
  },
  {
   "cell_type": "markdown",
   "id": "1eb3b141-631a-4df7-84de-609028e0b91d",
   "metadata": {
    "tags": []
   },
   "source": [
    "### Defining peak-cell subtype correlations, as input to bed for annotation/LDSC/h2 input"
   ]
  },
  {
   "cell_type": "code",
   "execution_count": null,
   "id": "1857bd47-4028-4300-a5d8-c466d8eb1c23",
   "metadata": {},
   "outputs": [],
   "source": [
    "ct='T'\n",
    "# get cell subtype mappings\n",
    "ct_adata = sc.read_h5ad(\"/data/srlab/agupta/data/d12_matrices/processed_h5ads/\"+ct+\"_RNA_adata.h5ad\")"
   ]
  },
  {
   "cell_type": "markdown",
   "id": "db2fbeb9-d72c-4ef4-90e3-01d5c7062852",
   "metadata": {
    "tags": []
   },
   "source": [
    "#### subtype-based"
   ]
  },
  {
   "cell_type": "code",
   "execution_count": null,
   "id": "724168c4-2840-40ac-85d9-e93cb59820f2",
   "metadata": {
    "scrolled": true,
    "tags": []
   },
   "outputs": [],
   "source": [
    "#cell-PC loadings\n",
    "res = pd.read_csv(\"/data/srlab/agupta/data/d12_matrices/cellPC-loadings/\"+ct+\"_RNA_PC_loadings.csv\",index_col=0)\n",
    "res = res.drop(['PC'+str(i) for i in np.arange(11,21,1)]+['donor','donor_num','total_counts'],axis=1)\n",
    "res['subtype'] = list(ct_adata[res.index].obs['ct_subtype'])\n",
    "\n",
    "ALL_PC_cell_scores = pd.DataFrame()\n",
    "all_annots = ['PC1','PC2','PC3','PC4','PC5','PC6','PC7','PC8','PC9','PC10']\n",
    "for PC in all_annots:\n",
    "    max_val = 1\n",
    "    cell_PC_loadings = np.array([i/max_val for i in res[PC]])\n",
    "    PC_cell_scores_df = pd.DataFrame(cell_PC_loadings)\n",
    "    PC_cell_scores_df.columns = [PC]\n",
    "    PC_cell_scores_df.index = res.index\n",
    "    ALL_PC_cell_scores = pd.concat([ALL_PC_cell_scores,PC_cell_scores_df],axis=1)\n",
    "\n",
    "ALL_PC_cell_scores['subtype'] = res['subtype']\n",
    "\n",
    "#mean loading for all cells in subtype\n",
    "cell_subtype_PC_scores = ALL_PC_cell_scores.groupby('subtype').mean()"
   ]
  },
  {
   "cell_type": "markdown",
   "id": "017bc8e6-3983-42ae-a726-9784ee0db91f",
   "metadata": {
    "tags": []
   },
   "source": [
    "#### peaks x PCs info"
   ]
  },
  {
   "cell_type": "code",
   "execution_count": null,
   "id": "68f48ae5-1585-4c47-88a4-144d4ace0c53",
   "metadata": {
    "scrolled": true,
    "tags": []
   },
   "outputs": [],
   "source": [
    "#peak Z-scores for the 10 PC categories\n",
    "OG_df = pd.DataFrame(pd.read_csv('/data/srlab/agupta/data/peak_gene_scores/d12_scores/'+ct+'/083122_poisson_regression_10PC_all_outputs.csv',index_col=0))\n",
    "#only include DYNAMIC peaks for this peak to cell correlation mapping\n",
    "peaks_CT_reg_df = OG_df[OG_df['model_LRT_qval']<0.05]\n",
    "peaks_CT_reg_df = peaks_CT_reg_df[['PC1 zscore','PC2 zscore','PC3 zscore','PC4 zscore','PC5 zscore', 'PC6 zscore','PC7 zscore','PC8 zscore','PC9 zscore','PC10 zscore']]\n",
    "\n",
    "ALL_PC_PEAK_scores = pd.DataFrame()\n",
    "all_annots = ['PC1','PC2','PC3','PC4','PC5','PC6','PC7','PC8','PC9','PC10']\n",
    "for annot in all_annots:\n",
    "    PEAK_PC_zscores = peaks_CT_reg_df[annot+' zscore']\n",
    "    PC_PEAK_scores_df = pd.DataFrame(PEAK_PC_zscores)\n",
    "    PC_PEAK_scores_df.columns = [annot]\n",
    "    PC_PEAK_scores_df.index = peaks_CT_reg_df.index\n",
    "    ALL_PC_PEAK_scores = pd.concat([ALL_PC_PEAK_scores,PC_PEAK_scores_df],axis=1)"
   ]
  },
  {
   "cell_type": "markdown",
   "id": "90146416-592c-49ac-a40d-59638b0c4262",
   "metadata": {
    "tags": []
   },
   "source": [
    "#### cosine similarity"
   ]
  },
  {
   "cell_type": "code",
   "execution_count": null,
   "id": "2edc3280-ddaf-4ff5-8304-9ad5e50b1cce",
   "metadata": {
    "scrolled": true,
    "tags": []
   },
   "outputs": [],
   "source": [
    "## FULL COSINE SIMILARITY DF ##\n",
    "from sklearn.metrics.pairwise import cosine_similarity\n",
    "\n",
    "cell_PC_df_use = cell_subtype_PC_scores\n",
    "\n",
    "num_peaks = len(ALL_PC_PEAK_scores)\n",
    "chunk_size = int(num_peaks/20)\n",
    "cell_peak_corrs_for_annots = pd.DataFrame()\n",
    "for i in np.arange(chunk_size,num_peaks,chunk_size):\n",
    "    #subset peaks to this chunk\n",
    "    peak_subset_df = pd.concat([cell_PC_df_use,ALL_PC_PEAK_scores.iloc[i-chunk_size:i,:]],axis=0)\n",
    "    #calculate peak-cell corrs for this  peak set/chunk\n",
    "    #correlation for each \"avg\" cell - peak pair (across the 10 PC dimensions)\n",
    "    print('calculating cosine similarity-based corrs for peak set', i-chunk_size, i)\n",
    "    subset_cosine_corrs = pd.DataFrame(cosine_similarity(peak_subset_df)) # cosine similarity\n",
    "    subset_cosine_corrs.index = list(cell_PC_df_use.index) + list(ALL_PC_PEAK_scores.iloc[i-chunk_size:i,:].index)\n",
    "    subset_cosine_corrs.columns = list(cell_PC_df_use.index) + list(ALL_PC_PEAK_scores.iloc[i-chunk_size:i,:].index)\n",
    "    subset_cosine_corrs = subset_cosine_corrs.iloc[:len(cell_PC_df_use), len(cell_PC_df_use):].T #num cell subtypes\n",
    "    \n",
    "    cell_peak_corrs_for_annots = pd.concat([cell_peak_corrs_for_annots, subset_cosine_corrs])"
   ]
  },
  {
   "cell_type": "code",
   "execution_count": null,
   "id": "4ba7c999-ca39-4978-b507-a2d749b2fb03",
   "metadata": {
    "scrolled": true,
    "tags": []
   },
   "outputs": [],
   "source": [
    "#to see how the pvals are distributed for each cell subtype\n",
    "for col in cell_peak_corrs_for_annots.columns:\n",
    "    plt.figure(figsize=(4,3))\n",
    "    plt.hist(cell_peak_corrs_for_annots[col],bins=50);\n",
    "    plt.title(col)\n",
    "    sns.despine()\n",
    "    plt.show()"
   ]
  },
  {
   "cell_type": "code",
   "execution_count": null,
   "id": "b00ca225-45cf-45c6-bd5c-ab8d9c30e0a7",
   "metadata": {
    "scrolled": true,
    "tags": []
   },
   "outputs": [],
   "source": [
    "#convert to BED score\n",
    "print('copying cell-peak corrs')\n",
    "peak_scores = cell_peak_corrs_for_annots.copy()\n",
    "print('excluding chrX and Y')\n",
    "peak_scores = peak_scores[peak_scores.index.str.contains('chrX')==False]\n",
    "peak_scores = peak_scores[peak_scores.index.str.contains('chrY')==False]\n",
    "# if T cells:\n",
    "# peak_scores = peak_scores.drop('T-19: MT-high (low quality)', axis=1)\n",
    "# peak_scores.columns = [i.split(\":\")[0] for i in peak_scores.columns]\n",
    "peak_scores"
   ]
  },
  {
   "cell_type": "code",
   "execution_count": null,
   "id": "f263e3c8-ae62-445f-bdae-115c9fc837ca",
   "metadata": {
    "scrolled": true,
    "tags": []
   },
   "outputs": [],
   "source": [
    "# binarize scores (top 10% of peaks = 1; rest = 0)\n",
    "print(\"ranking and subsetting peaks\")\n",
    "peak_scores = peak_scores.where(peak_scores.rank(axis=0,ascending=False)<(len(peak_scores)*(0.1))).fillna(0) #CHANGE BASED ON THRESHOLD TO USE FOR \"TOP\" PEAKS FOR EACH CELL SET\n",
    "\n",
    "for st in peak_scores.columns:\n",
    "    plt.figure(figsize=(4,3))\n",
    "    plt.hist(peak_scores[st],bins=30);\n",
    "    plt.title(st)\n",
    "    sns.despine()\n",
    "    plt.show()\n",
    "    \n",
    "print('binarizing peak scores')\n",
    "#binarize scores\n",
    "peak_scores[peak_scores>0]=1"
   ]
  },
  {
   "cell_type": "code",
   "execution_count": null,
   "id": "55da2341-9cbc-460a-8b90-5e284d6bf0d2",
   "metadata": {
    "scrolled": true,
    "tags": []
   },
   "outputs": [],
   "source": [
    "#convert values to int to make calcs faster (and can do this now since we've binarized)\n",
    "peak_scores = peak_scores.astype(int)\n",
    "#num peaks in each pseudocell's annotation\n",
    "print(np.sum(peak_scores))\n",
    "#make DF sparse to output as csv (for storage and future reference)\n",
    "peak_scores_binarized_sparse = peak_scores.astype(pd.SparseDtype(\"int\", np.nan))"
   ]
  },
  {
   "cell_type": "markdown",
   "id": "eb603198-4f69-40c5-bce0-f574c33cf9ff",
   "metadata": {
    "tags": []
   },
   "source": [
    "#### convert to hg38 bed files and output"
   ]
  },
  {
   "cell_type": "code",
   "execution_count": null,
   "id": "c07a9294-701d-41c5-a767-7b0c5e1fab57",
   "metadata": {
    "tags": []
   },
   "outputs": [],
   "source": [
    "# ACTUALLY CONVERT TO INDIVIDUAL .BED FILES\n",
    "full_df = peak_scores_binarized_sparse\n",
    "peak_window = 500\n",
    "\n",
    "chromosome = [str(i).split(\":\")[0] for i in full_df.index]\n",
    "peak_start_bp = [str(i).split(\":\")[1].split(\"-\")[0] for i in full_df.index]\n",
    "peak_end_bp = [str(i).split(\":\")[1].split(\"-\")[1] for i in full_df.index]\n",
    "\n",
    "peaks_for_bed_df = pd.DataFrame([chromosome, peak_start_bp, peak_end_bp]).T\n",
    "peaks_for_bed_df.columns = ['chr','start','end']\n",
    "\n",
    "i=0\n",
    "for annot_type in full_df.columns:\n",
    "    i+=1\n",
    "    if i%2==0: #print status update at every 500th cell\n",
    "        print(annot_type)\n",
    "\n",
    "    peaks_for_bed_df['SCORE'] = full_df[annot_type].values\n",
    "    \n",
    "    # #to make the window around peaks wider\n",
    "    peaks_for_bed_df_extended = peaks_for_bed_df.copy()\n",
    "    peaks_for_bed_df_extended['start'] = [int(i) - peak_window for i in list(peaks_for_bed_df_extended['start'])]\n",
    "    peaks_for_bed_df_extended['end'] = [int(i) + peak_window for i in list(peaks_for_bed_df_extended['end'])]\n",
    "    # print(peaks_for_bed_df_extended.head())\n",
    "    print(np.sum(peaks_for_bed_df_extended['SCORE']))\n",
    "    # #output without index or header\n",
    "    bed_folder = '/data/srlab/agupta/data/h2/bed/d12/subtypes_hg38/'\n",
    "    peaks_for_bed_df_extended.to_csv(bed_folder+\"083122_\"+annot_type+\"_binary_hg38.bed\",\n",
    "                                     header=False,\n",
    "                                     index=False,\n",
    "                                     sep='\\t')"
   ]
  }
 ],
 "metadata": {
  "kernelspec": {
   "display_name": "Python 3 (ipykernel)",
   "language": "python",
   "name": "python3"
  },
  "language_info": {
   "codemirror_mode": {
    "name": "ipython",
    "version": 3
   },
   "file_extension": ".py",
   "mimetype": "text/x-python",
   "name": "python",
   "nbconvert_exporter": "python",
   "pygments_lexer": "ipython3",
   "version": "3.7.12"
  }
 },
 "nbformat": 4,
 "nbformat_minor": 5
}
